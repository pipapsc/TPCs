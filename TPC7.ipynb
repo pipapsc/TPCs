{
 "cells": [
  {
   "cell_type": "markdown",
   "metadata": {},
   "source": [
    "# TPC7\n",
    "# Processamento de datasets\n",
    "* data iní­cio: 2021-11-22\n",
    "* data fim: 2021-11-29\n",
    "* autor: Filipa Pinho Serra Campos, A95303\n",
    "* resumo: Neste tpc, para resolver a ficha proposta, foi necessário criar várias funções. Inicialmente foi criada, em aula a getAluno, que permite, \n"
    " para cada linha do ficheiro, criar uma lista de campos. Esta função é depois utilizada na lerDataset, que permite obter todo o ficheiro como uma lista de listas. \n"
    " De seguida foi feita a função listarDataset, que permite escrever os dados organizados numa tabela. Posteriormente foi feita a função consultarDataset, que \n"
    " a partir da introdução do id retorna todos os campos relativamente a esse aluno. Depois foi criada a função chaveOrd que faz a média dos trabalhos e a top10 \n"
    " que retorna os 10 melhores alunos. Foi ainda feita a função distribPorCurso que retorna quantos alunos há de cada curso e a distribPorMedia que retorna o numero \n"
    " de alunos que têm cada média. Por fim foram feitos os gráficos de barras que representam estas últimas duas."
   ]
  },
  {
   "cell_type": "markdown",
   "metadata": {},
   "source": [
    "## Dataset\n",
    "\n",
    "Para a resolução dos exercícios desta ficha, descarrega o dataset de alunos do site da UC.\n",
    "\n",
    "### Estrutura do dataset\n",
    "O dataset tem a seguinte estrutura:\n",
    "\n",
    "```\n",
    "id_aluno,nome,curso,tpc1,tpc2,tpc3,tpc4\n",
    "\"a1\",\"Aysha Melanie Gilberto\",\"LEI\",12,8,19,8\n",
    "\"a2\",\"Igor AndrÃ© Cantanhede\",\"ENGFIS\",12,16,18,20\n",
    "\"a3\",\"LaurÃ©nio Narciso\",\"ENGFIS\",8,14,15,14\n",
    "\"a4\",\"Jasnoor Casegas\",\"LCC\",14,20,17,11\n",
    "\"a5\",\"Tawseef RebouÃ§as\",\"ENGBIOM\",13,14,13,17\n",
    "\"a6\",\"Eryk Clementino\",\"LEI\",10,19,11,14\n",
    "...\n",
    "```\n"
   ]
  },
  {
   "cell_type": "markdown",
   "metadata": {},
   "source": [
    "## Leitura (exercício 1)\n",
    "\n",
    "Depois de pensares num modelo adequado especifica a função que lê o ficheiro e povoa esse modelo."
   ]
  },
  {
   "cell_type": "code",
   "execution_count": null,
   "metadata": {},
   "outputs": [],
   "source": [
    "# Descreve em texto o teu modelo\n",
    "# BdAlunos=[Aluno]\n",
    "# Aluno=[id, nome, curso,[tpc1,tpc2,tpc3,tpc4] ]\n",
    "# 3 dimensões\n",
    "# Leitura/carregamento da informação do ficheiro\n",
    "def convInt(s):\n",
    "    return int(s)\n",
    "\n",
    "def getAluno(texto):\n",
    "    textoLimpo2 = texto.replace(\"\\\"\",\"\") \n",
    "    #\"a1\",\"Aysha Melanie Gilberto\",\"LEI\",12,8,19,8 passa: a1,Aysha Melanie Gilberto,LEI,12,8,19,8 para no fim nao ficar ['\"a1\"', '\"Aysha Melanie Gilberto\"', '\"LEI\"', [12, 8, 19, 8]]\n",
    "    campos = textoLimpo2.split(\",\")\n",
    "    aluno = []\n",
    "    aluno.append(campos[0]) # \"a1\"\n",
    "    aluno.append(campos[1]) # \"Aysha Melanie Gilberto\"\n",
    "    aluno.append(campos[2]) # \"LEI\"\n",
    "    aluno.append(campos[3:]) # 12,8,19,8\n",
    "    # [\"a1\",\"Aysha Melanie Gilberto\",\"LEI\",[12,8,19,8]]\n",
    "    lista = []\n",
    "    for s in aluno[3]:\n",
    "        s = lista.append(int(s)) #so passa para inteiro as notas\n",
    "    aluno[3] = lista\n",
    "    return aluno\n",
    "\n",
    "def lerDataset():\n",
    "    texto = open (\"alunos.csv\")\n",
    "    bd = []\n",
    "    texto.readline()\n",
    "    for linha in texto:\n",
    "        bd.append(getAluno(linha))\n",
    "    return bd   "
   ]
  },
  {
   "cell_type": "markdown",
   "metadata": {},
   "source": [
    "## Listagem (exercício 2)\n",
    "\n",
    "Especifica uma função que faça a listagem no monitor dos vários registos de informação.\n",
    "Tenta dar a forma duma tabela em que as colunas têm todas a mesma dimensão."
   ]
  },
  {
   "cell_type": "code",
   "execution_count": null,
   "metadata": {},
   "outputs": [],
   "source": [
    "#Listagem da informação\n",
    "def listarDataset():\n",
    "    BD = lerDataset()\n",
    "    print (\"{:<8} {:<30} {:<15} {:<10}\".format('Id','Nome','Curso','Média'))\n",
    "    for a in BD:\n",
    "        media = str(sum(a[3])/4)\n",
    "        iD = a[0]\n",
    "        nome = a[1]\n",
    "        curso = a[2]\n",
    "        print (\"{:<8} {:<30} {:<15} {:<10}\".format(iD,nome,curso,media))\n",
    "\n",
    "    "
   ]
  },
  {
   "cell_type": "markdown",
   "metadata": {},
   "source": [
    "## Consulta de um registo (exercício 3)\n",
    "\n",
    "Especifica uma função que, dado o id de um aluno, coloca a sua informação no monitor. Para além disso, indica também a média dos TPC realizados."
   ]
  },
  {
   "cell_type": "code",
   "execution_count": null,
   "metadata": {},
   "outputs": [],
   "source": [
    "# Consulta de um registo tenho que pedir o id\n",
    "def consultarDataset(iD):\n",
    "    BD = lerDataset()\n",
    "    for a in BD:\n",
    "        aluno = 0\n",
    "        if a[0] == iD:\n",
    "            media = str(sum(a[3])/4)\n",
    "            print (\"Id: \", a[0],\"\\nNome: \", a[1],\"\\nCurso: \", a[2], \"\\nTPC1: \", a[3][0], \" TPC2: \", a[3][1], \" TPC3: \", a[3][2], \" TPC4: \", a[3][3], \"\\nMédia: \", media)\n",
    "            aluno = 1\n",
    "    if aluno == 0 :\n",
    "        print (\"Não existe esse registo.\")\n",
    "        \n",
    "    "
   ]
  },
  {
   "cell_type": "markdown",
   "metadata": {},
   "source": [
    "## Top 10 (exercicio 4)\n",
    "\n",
    "Especifica um função que dá como resultado uma lista com os alunos com as 10 méias mais altas: id, nome, curso, média."
   ]
  },
  {
   "cell_type": "code",
   "execution_count": null,
   "metadata": {},
   "outputs": [],
   "source": [
    "def chaveOrd(a):\n",
    "    return  str(sum(a[3])/4)\n",
    "\n",
    "def top10():\n",
    "    BD = lerDataset()\n",
    "    BD.sort(reverse = True, key = chaveOrd) #poe erradamente em primeiro dois valores de 9,75 e depois ordena corretamente de maior para menor\n",
    "    i = 2\n",
    "    while i in range(12):\n",
    "        tpc = BD[i][3]\n",
    "        soma = sum(tpc)\n",
    "        media = str(soma/4)\n",
    "        print (\"Id: \", BD[i][0],\" Nome: \", BD[i][1],\" Curso: \", BD[i][2], \" Média: \", media, \"\\n\")\n",
    "        i = i+1\n"
   ]
  },
  {
   "cell_type": "markdown",
   "metadata": {},
   "source": [
    "## Distribuição por curso (exercício 5)\n",
    "\n",
    "Especifica uma função que dá como resultado uma lista de pares indicando quantos alunos há em cada curso."
   ]
  },
  {
   "cell_type": "code",
   "execution_count": null,
   "metadata": {},
   "outputs": [],
   "source": [
    "def distribPorCurso():\n",
    "    bd = lerDataset()\n",
    "    distribuicao = {}\n",
    "    for a in bd:\n",
    "        if a[2] in distribuicao.keys():\n",
    "            distribuicao[a[2]] = distribuicao[a[2]]+1\n",
    "        else:\n",
    "            distribuicao[a[2]] = 1\n",
    "    return distribuicao #{curso : numero de alunos}"
   ]
  },
  {
   "cell_type": "markdown",
   "metadata": {},
   "source": [
    "## Distribuição por médias (exercício 6)\n",
    "\n",
    "Especifica uma função que dá como resultado uma lista de pares, média e número de alunos com essa média (considera o valor inteiro da média)."
   ]
  },
  {
   "cell_type": "code",
   "execution_count": null,
   "metadata": {},
   "outputs": [],
   "source": [
    "def distribPorMedia():\n",
    "    bd = lerDataset()\n",
    "    distribuicaoM = {}\n",
    "    for a in bd:\n",
    "        M = int(sum(a[3])/4)\n",
    "        if M in distribuicaoM.keys():\n",
    "            distribuicaoM[M] = distribuicaoM[M]+1\n",
    "        else:\n",
    "            distribuicaoM[M] = 1\n",
    "    return distribuicaoM #{media: numero de alunos com essa media}"
   ]
  },
  {
   "cell_type": "markdown",
   "metadata": {},
   "source": [
    "# Gráficos\n",
    "\n",
    "## Gráfico da distribuição por curso (exercício 7)\n",
    "\n",
    "Especifica uma função que faz o plot dum gráfico com a distribuição de alunos por curso."
   ]
  },
  {
   "cell_type": "code",
   "execution_count": null,
   "metadata": {},
   "outputs": [],
   "source": [
    "def getAluno(texto):\n",
    "    textoLimpo2 = texto.replace(\"\\\"\",\"\") #\"a1\",\"Aysha Melanie Gilberto\",\"LEI\",12,8,19,8\n",
    "    campos = textoLimpo2.split(\",\")\n",
    "    aluno = []\n",
    "    aluno.append(campos[0]) # \"a1\"\n",
    "    aluno.append(campos[1]) # \"Aysha Melanie Gilberto\"\n",
    "    aluno.append(campos[2]) # \"LEI\"\n",
    "    aluno.append(campos[3:]) # 12,8,19,8\n",
    "    # [\"a1\",\"Aysha Melanie Gilberto\",\"LEI\",[12,8,19,8]]\n",
    "    lista = []\n",
    "    for s in aluno[3]:\n",
    "        s = lista.append(int(s)) #so passa para inteiro as notas\n",
    "    aluno[3] = lista\n",
    "    return aluno\n",
    "\n",
    "def lerDataset():\n",
    "    texto = open (\"alunos.csv\")\n",
    "    bd = []\n",
    "    texto.readline()\n",
    "    for linha in texto:\n",
    "        bd.append(getAluno(linha))\n",
    "    return bd  \n",
    "\n",
    "def distribPorCurso():\n",
    "    bd = lerDataset()\n",
    "    distribuicao = {}\n",
    "    for a in bd:\n",
    "        if a[2] in distribuicao.keys():\n",
    "            distribuicao[a[2]] = distribuicao[a[2]]+1\n",
    "        else:\n",
    "            distribuicao[a[2]] = 1\n",
    "    return distribuicao #{curso : numero de alunos}\n",
    "\n",
    "distribuicao = distribPorCurso()\n",
    "\n",
    "import matplotlib.pyplot as plt\n",
    " \n",
    "def plotDistribPorCurso(distribuicao):\n",
    "     # heights of bars\n",
    "     alunos = distribuicao.values()\n",
    "    height = []\n",
    "    for a in alunos:\n",
    "        height.append(a)   \n",
    " \n",
    "    # labels for bars\n",
    "    cursos = distribuicao.keys() #retorna lista com as chaves, nomne dos cursos\n",
    "    x = []\n",
    "    i = 1\n",
    "    tick_label = []\n",
    "    for c in cursos:\n",
    "        tick_label.append(c)\n",
    "        x.append(i)\n",
    "        i = i+1\n",
    " \n",
    "    # plotting a bar chart\n",
    "    plt.bar(x,height, tick_label = tick_label, width = 0.8)\n",
    " \n",
    "    # naming the x-axis\n",
    "    plt.xlabel('Cursos')\n",
    "    # naming the y-axis\n",
    "    plt.ylabel('Número de alunos')\n",
    "    # plot title\n",
    "    plt.title('Distribuição por curso')\n",
    " \n",
    "    # function to show the plot\n",
    "    plt.show()\n",
    "   "
   ]
  },
  {
   "cell_type": "markdown",
   "metadata": {},
   "source": [
    "## Gráfico da distribuição por média (exercício 8)\n",
    "\n",
    "Especifica uma função que faz o plot dum gráfico com a distribuição de alunos por média."
   ]
  },
  {
   "cell_type": "code",
   "execution_count": null,
   "metadata": {},
   "outputs": [],
   "source": [
    "def getAluno(texto):\n",
    "    textoLimpo2 = texto.replace(\"\\\"\",\"\") #\"a1\",\"Aysha Melanie Gilberto\",\"LEI\",12,8,19,8\n",
    "    campos = textoLimpo2.split(\",\")\n",
    "    aluno = []\n",
    "    aluno.append(campos[0]) # \"a1\"\n",
    "    aluno.append(campos[1]) # \"Aysha Melanie Gilberto\"\n",
    "    aluno.append(campos[2]) # \"LEI\"\n",
    "    aluno.append(campos[3:]) # 12,8,19,8\n",
    "    # [\"a1\",\"Aysha Melanie Gilberto\",\"LEI\",[12,8,19,8]]\n",
    "    lista = []\n",
    "    for s in aluno[3]:\n",
    "        s = lista.append(int(s)) #so passa para inteiro as notas\n",
    "    aluno[3] = lista\n",
    "    return aluno\n",
    "\n",
    "def lerDataset():\n",
    "    texto = open (\"alunos.csv\")\n",
    "    bd = []\n",
    "    texto.readline()\n",
    "    for linha in texto:\n",
    "        bd.append(getAluno(linha))\n",
    "    return bd  \n",
    "\n",
    "def distribPorMedia():\n",
    "    bd = lerDataset()\n",
    "    distribuicaoM = {}\n",
    "    for a in bd:\n",
    "        M = int(sum(a[3])/4)\n",
    "        if M in distribuicaoM.keys():\n",
    "            distribuicaoM[M] = distribuicaoM[M]+1\n",
    "        else:\n",
    "            distribuicaoM[M] = 1\n",
    "    return distribuicaoM #{media: numero de alunos com essa media}\n",
    "\n",
    "distribuicao = distribPorMedia()\n",
    "\n",
    "import matplotlib.pyplot as plt\n",
    " \n",
    "def plotDistribPorMedia(distribuicao):\n",
    "    # heights of bars\n",
    "    alunos = distribuicao.values()\n",
    "    height = []\n",
    "    for a in alunos:\n",
    "        height.append(a)   \n",
    " \n",
    "    # labels for bars\n",
    "    cursos = distribuicao.keys() #retorna lista com as chaves, nomne dos cursos\n",
    "    x = []\n",
    "    i = 1\n",
    "    tick_label = []\n",
    "    for c in cursos:\n",
    "        tick_label.append(c)\n",
    "        x.append(i)\n",
    "        i = i+1\n",
    " \n",
    "    # plotting a bar chart\n",
    "    plt.bar(x,height, tick_label = tick_label, width = 0.8)\n",
    " \n",
    "    # naming the x-axis\n",
    "    plt.xlabel('Media')\n",
    "    # naming the y-axis\n",
    "    plt.ylabel('Número de alunos')\n",
    "    # plot title\n",
    "    plt.title('Distribuição de alunos por media')\n",
    " \n",
    "    # function to show the plot\n",
    "    plt.show()"
   ]
  }
 ],
 "metadata": {
  "interpreter": {
   "hash": "aee8b7b246df8f9039afb4144a1f6fd8d2ca17a180786b69acc140d282b71a49"
  },
  "kernelspec": {
   "display_name": "Python 3.9.1 64-bit",
   "name": "python3"
  },
  "language_info": {
   "codemirror_mode": {
    "name": "ipython",
    "version": 3
   },
   "file_extension": ".py",
   "mimetype": "text/x-python",
   "name": "python",
   "nbconvert_exporter": "python",
   "pygments_lexer": "ipython3",
   "version": "3.9.1"
  },
  "orig_nbformat": 4
 },
 "nbformat": 4,
 "nbformat_minor": 2
}
