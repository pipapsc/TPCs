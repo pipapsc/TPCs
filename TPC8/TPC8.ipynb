{
 "cells": [
  {
   "cell_type": "markdown",
   "metadata": {},
   "source": [
    "# TPC 8"
   ]
  },
  {
   "cell_type": "markdown",
   "metadata": {},
   "source": [
    "* data iní­cio: 2021-12-03\n",
    "* data fim: 2021-12-06\n",
    "* autor: Filipa Pinho Serra Campos, A95303\n",
    "* resumo: "
   ]
  },
  {
   "cell_type": "code",
   "execution_count": 1,
   "metadata": {},
   "outputs": [
    {
     "name": "stdout",
     "output_type": "stream",
     "text": [
      "Requirement already satisfied: pysimplegui in c:\\users\\pipap\\anaconda3\\lib\\site-packages (4.55.1)\n",
      "Note: you may need to restart the kernel to use updated packages.\n"
     ]
    }
   ],
   "source": [
    "pip install pysimplegui"
   ]
  },
  {
   "cell_type": "code",
   "execution_count": 1,
   "metadata": {},
   "outputs": [
    {
     "data": {
      "image/png": "[encoded data removed]",
      "text/plain": [
       "<Figure size 432x288 with 1 Axes>"
      ]
     },
     "metadata": {
      "needs_background": "light"
     },
     "output_type": "display_data"
    }
   ],
   "source": [
    "import PySimpleGUI as sg\n",
    "\n",
    "# Painel com duas colunas: \n",
    "# Coluna 1: menu\n",
    "# Coluna 2: Dados\n",
    "\n",
    "menu_list_column = [\n",
    "    [sg.Button(\"Carregar\")],\n",
    "    [sg.Button(\"Listar\")],\n",
    "    [sg.Button(\"Modalidades\")],\n",
    "    [sg.Button(\"Por modalidade\")],\n",
    "    [sg.Button(\"Por ano\")],\n",
    "    [sg.Button(\"Por Clube\")],\n",
    "    [sg.Button(\"Sair\")]\n",
    "]\n",
    "\n",
    "data_viewer_column = [\n",
    "    [sg.Text(\"Painel de Dados\")],\n",
    "    [sg.Text(size=(40, 1), key=\"-Dados-\")],\n",
    "]\n",
    "\n",
    "# ----- Full layout -----\n",
    "layout = [\n",
    "    [\n",
    "        sg.Column(menu_list_column), #vai buscar a lista do menu\n",
    "        sg.VSeperator(), #separador vertical\n",
    "        sg.Column(data_viewer_column), # vai buscar a lista dos dados\n",
    "    ]\n",
    "]\n",
    "\n",
    "window = sg.Window(\"Sample App\", layout)\n",
    "\n",
    "import emdApp as emd\n",
    "\n",
    "myBD = emd.carregar()\n",
    "# Run the Event Loop\n",
    "stop = False\n",
    "while not stop:\n",
    "    event, values = window.read()\n",
    "    if event == \"Sair\" or event == sg.WIN_CLOSED:\n",
    "        stop = True\n",
    "    # Folder name was filled in, make a list of files in the folder\n",
    "    elif event == \"Carregar\":\n",
    "        contador = emd.contadorBD()\n",
    "        dados = \"Foram carregados \" + str(contador) + \" registos.\"\n",
    "        window[\"-Dados-\"].update(dados)\n",
    "    elif event == \"Listar\":  \n",
    "        tabela = emd.listarDataset()\n",
    "        window[\"-Dados-\"].update(tabela)\n",
    "    elif event == \"Modalidades\":  \n",
    "        modalidades = emd.modalidades()\n",
    "        window[\"-Dados-\"].update(modalidades)\n",
    "    elif event == \"Por modalidade\":  \n",
    "        modalidade = emd.porModalidade()\n",
    "        window[\"-Dados-\"].update(modalidade)\n",
    "        graficoModalidade = emd.plotPorModalidade()\n",
    "        window[\"-Dados-\"].update(graficoModalidade)\n",
    "    elif event == \"Por ano\":  \n",
    "        ano = emd.porAno()\n",
    "        window[\"-Dados-\"].update(ano)\n",
    "        graficoAno = emd.plotPorAno()\n",
    "        window[\"-Dados-\"].update(graficoAno)\n",
    "    elif event == \"Por Clube\":  \n",
    "        clube = emd.porClube()\n",
    "        window[\"-Dados-\"].update(clube)\n",
    "        graficoClube = emd.plotPorClube()\n",
    "        window[\"-Dados-\"].update(graficoClube)\n",
    "    else:\n",
    "        window[\"-Dados-\"].update(\"Erro: evento desconhecido\")\n",
    "\n",
    "window.close()"
   ]
  }
 ],
 "metadata": {
  "interpreter": {
   "hash": "31175ebc4e5ee33d09c172d012fb101c376d2044cbd9707059c571a870c7b1fa"
  },
  "kernelspec": {
   "display_name": "Python 3.8.3 64-bit ('base': conda)",
   "language": "python",
   "name": "python3"
  },
  "language_info": {
   "codemirror_mode": {
    "name": "ipython",
    "version": 3
   },
   "file_extension": ".py",
   "mimetype": "text/x-python",
   "name": "python",
   "nbconvert_exporter": "python",
   "pygments_lexer": "ipython3",
   "version": "3.8.3"
  },
  "orig_nbformat": 4
 },
 "nbformat": 4,
 "nbformat_minor": 2
}
